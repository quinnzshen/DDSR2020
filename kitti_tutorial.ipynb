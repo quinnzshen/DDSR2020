{
 "cells": [
  {
   "cell_type": "markdown",
   "metadata": {},
   "source": [
    "## KITTI Dataset Tutorial"
   ]
  },
  {
   "cell_type": "code",
   "execution_count": 1,
   "metadata": {},
   "outputs": [
    {
     "data": {
      "text/html": [
       "<style>.container { width:90% !important; }</style>"
      ],
      "text/plain": [
       "<IPython.core.display.HTML object>"
      ]
     },
     "metadata": {},
     "output_type": "display_data"
    }
   ],
   "source": [
    "%load_ext autoreload\n",
    "%autoreload 2\n",
    "%matplotlib inline\n",
    "\n",
    "from IPython.core.display import display, HTML\n",
    "display(HTML(\"<style>.container { width:90% !important; }</style>\"))"
   ]
  },
  {
   "cell_type": "code",
   "execution_count": 2,
   "metadata": {},
   "outputs": [],
   "source": [
    "from matplotlib import gridspec\n",
    "from matplotlib import pyplot as plt\n",
    "import PIL.Image as pil"
   ]
  },
  {
   "cell_type": "markdown",
   "metadata": {},
   "source": [
    "### Load and visualize stereo images\n",
    "Note: These are stereo pair images from the same timestamp."
   ]
  },
  {
   "cell_type": "code",
   "execution_count": null,
   "metadata": {},
   "outputs": [],
   "source": [
    "stereo_left_image_path = \"data/kitti_example/2011_09_26/2011_09_26_drive_0048_sync/image_02/data/0000000000.png\"\n",
    "stereo_right_image_path = \"data/kitti_example/2011_09_26/2011_09_26_drive_0048_sync/image_03/data/0000000000.png\"\n",
    "\n",
    "stereo_left_image = pil.open(stereo_left_image_path).convert('RGB')\n",
    "stereo_right_image = pil.open(stereo_right_image_path).convert('RGB')"
   ]
  },
  {
   "cell_type": "code",
   "execution_count": null,
   "metadata": {},
   "outputs": [],
   "source": [
    "plt.figure(figsize=(20, 20))\n",
    "plt.imshow(stereo_left_image)\n",
    "plt.show()"
   ]
  },
  {
   "cell_type": "code",
   "execution_count": null,
   "metadata": {},
   "outputs": [],
   "source": [
    "plt.figure(figsize=(20, 20))\n",
    "plt.imshow(stereo_right_image)\n",
    "plt.show()"
   ]
  },
  {
   "cell_type": "code",
   "execution_count": null,
   "metadata": {},
   "outputs": [],
   "source": [
    "fig = plt.figure(figsize=(20, 10)) \n",
    "grid = gridspec.GridSpec(2, 1, height_ratios=[1, 1], wspace=0.0, hspace=0.0, figure=fig)\n",
    "\n",
    "# Plot camera image.\n",
    "ax = plt.subplot(grid[0])\n",
    "ax.imshow(stereo_left_image)\n",
    "ax.set_xticklabels([])\n",
    "ax.set_yticklabels([])\n",
    "\n",
    "# Plot segmentation image.\n",
    "ax = plt.subplot(grid[1])\n",
    "ax.imshow(stereo_right_image)\n",
    "ax.set_xticklabels([])\n",
    "ax.set_yticklabels([])\n",
    "\n",
    "plt.show()"
   ]
  },
  {
   "cell_type": "markdown",
   "metadata": {},
   "source": [
    "### Load and Visualize Lidar Data.\n",
    "Note: Lidar is formatted as [N, 4] where N is the number of lidar points and 4 corresponds to x, y, z, lidar_intensity."
   ]
  },
  {
   "cell_type": "code",
   "execution_count": 3,
   "metadata": {},
   "outputs": [],
   "source": [
    "import kitti_utils\n",
    "\n",
    "lidar_data_path = 'data/kitti_example/2011_09_26/2011_09_26_drive_0048_sync/velodyne_points/data/0000000000.bin'\n",
    "lidar_data = kitti_utils.load_lidar_points(lidar_data_path)"
   ]
  },
  {
   "cell_type": "code",
   "execution_count": null,
   "metadata": {
    "scrolled": false
   },
   "outputs": [],
   "source": [
    "import plotly.graph_objects as go\n",
    "import plotly_utils\n",
    "\n",
    "fig = go.Figure()\n",
    "data = go.Scatter3d(x=lidar_data[:, 0], \n",
    "                    y=lidar_data[:, 1], \n",
    "                    z=lidar_data[:, 2], \n",
    "                    mode='markers',\n",
    "                    marker=dict(size=1, color=lidar_data[:, 3], colorscale='Viridis'),\n",
    "                    name='lidar')\n",
    "fig.add_traces(data)\n",
    "\n",
    "plotly_utils.setup_layout(fig)\n",
    "fig.show()"
   ]
  },
  {
   "cell_type": "markdown",
   "metadata": {},
   "source": [
    "### Loading IMU Data"
   ]
  },
  {
   "cell_type": "code",
   "execution_count": null,
   "metadata": {},
   "outputs": [],
   "source": [
    "scene_path = 'data/kitti_example/2011_09_26/2011_09_26_drive_0048_sync/'\n",
    "\n",
    "imu_data = kitti_utils.get_imu_data(scene_path, 0)\n",
    "imu_data"
   ]
  },
  {
   "cell_type": "code",
   "execution_count": null,
   "metadata": {},
   "outputs": [],
   "source": [
    "imu_df = kitti_utils.get_imu_dataframe(scene_path)\n",
    "imu_df"
   ]
  },
  {
   "cell_type": "code",
   "execution_count": null,
   "metadata": {},
   "outputs": [],
   "source": [
    "import pytest\n",
    "@pytest.fixture\n",
    "def kitti_root_directory():\n",
    "    return 'data/kitti_example'\n",
    "\n",
    "@pytest.fixture\n",
    "def kitti_dataset_index():\n",
    "    test_data = {'path_name': ['data/kitti_example/2011_09_26/2011_09_26_drive_0048_sync/', \n",
    "                               'data/kitti_example/2011_09_26/2011_09_26_drive_0048_sync/',\n",
    "                                'data/kitti_example/2011_09_26/2011_09_26_drive_0048_sync/'],\n",
    "                 'index': ['0', '1', '2']}\n",
    "    \n",
    "    return pd.DataFrame(test_data, columns = ['path_name', 'index'])\n",
    "\n",
    "def test_something(kitti_root_directory, kitti_dataset_index):\n",
    "    dataset = KittiDataset(root_dir=kitti_root_directory, \n",
    "                           dataset_index=kitti_dataset_index, \n",
    "                           previous_frame=1,\n",
    "                           next_frame=1)\n",
    "    \n",
    "data = dataset[0]\n",
    "#print(dataset[0])\n",
    "#print(dataset[0])\n",
    "print(dataset[1]['nearby_frames'].keys())\n",
    "print(dataset[2]['nearby_frames'])"
   ]
  },
  {
   "cell_type": "code",
   "execution_count": 4,
   "metadata": {},
   "outputs": [
    {
     "name": "stdout",
     "output_type": "stream",
     "text": [
      "0    data/kitti_example/2011_09_26/2011_09_26_drive...\n",
      "1    data/kitti_example/2011_09_26/2011_09_26_drive...\n",
      "2    data/kitti_example/2011_09_26/2011_09_26_drive...\n",
      "Name: path_name, dtype: object\n"
     ]
    }
   ],
   "source": [
    "from dataloader import KittiDataset\n",
    "dataset = KittiDataset.init_from_config('configs/kitti_dataset.yml')\n",
    "import pandas as pd\n",
    "TEST_DATASET_INDEX = {'path_name': ['data/kitti_example/2011_09_26/2011_09_26_drive_0048_sync/', \n",
    "                                    'data/kitti_example/2011_09_26/2011_09_26_drive_0048_sync/',\n",
    "                                    'data/kitti_example/2011_09_26/2011_09_26_drive_0048_sync/'],\n",
    "                      'index': ['0', '1', '2']}\n",
    "dataset_index = pd.DataFrame(TEST_DATASET_INDEX, columns = ['path_name', 'index'])\n",
    "print(dataset_index['path_name'])"
   ]
  },
  {
   "cell_type": "code",
   "execution_count": 5,
   "metadata": {},
   "outputs": [],
   "source": [
    "from kitti_utils_test import kitti_root_directory, kitti_dataset_index\n",
    "\n",
    "kitti_root_directory = 'data/kitti_example'\n",
    "test_data = {'path_name': ['data/kitti_example/2011_09_26/2011_09_26_drive_0048_sync/', \n",
    "                           'data/kitti_example/2011_09_26/2011_09_26_drive_0048_sync/',\n",
    "                           'data/kitti_example/2011_09_26/2011_09_26_drive_0048_sync/',\n",
    "                           'data/kitti_example/2011_09_26/2011_09_26_drive_0060_sync/', \n",
    "                           'data/kitti_example/2011_09_26/2011_09_26_drive_0060_sync/',\n",
    "                           'data/kitti_example/2011_09_26/2011_09_26_drive_0060_sync/'],\n",
    "             'index': ['0', '1', '2', '0', '1', '2']}\n",
    "kitti_dataset_index = pd.DataFrame(test_data, columns = ['path_name', 'index'])\n",
    "\n",
    "dataset = KittiDataset(root_dir=kitti_root_directory, \n",
    "                       dataset_index=kitti_dataset_index, \n",
    "                       previous_frames=2,\n",
    "                       next_frames=2)"
   ]
  },
  {
   "cell_type": "code",
   "execution_count": 22,
   "metadata": {},
   "outputs": [
    {
     "name": "stdout",
     "output_type": "stream",
     "text": [
      "[(-2, True), (-1, True), (1, True), (2, True)]\n"
     ]
    }
   ],
   "source": [
    "print([(k, bool(v)) for k, v in dataset[2]['nearby_frames'].items()])"
   ]
  },
  {
   "cell_type": "code",
   "execution_count": 16,
   "metadata": {},
   "outputs": [
    {
     "data": {
      "text/plain": [
       "['calib_velo_to_cam.txt',\n",
       " '.DS_Store',\n",
       " '2011_09_26_drive_0048_sync',\n",
       " 'calib_imu_to_velo.txt',\n",
       " 'calib_cam_to_cam.txt']"
      ]
     },
     "execution_count": 16,
     "metadata": {},
     "output_type": "execute_result"
    }
   ],
   "source": [
    "import os\n",
    "os.listdir('data/kitti_example/2011_09_26')"
   ]
  },
  {
   "cell_type": "code",
   "execution_count": 19,
   "metadata": {},
   "outputs": [],
   "source": [
    "previous_frames = 2\n",
    "all_frames = range(-previous_frames, 3)"
   ]
  },
  {
   "cell_type": "code",
   "execution_count": 20,
   "metadata": {},
   "outputs": [
    {
     "name": "stdout",
     "output_type": "stream",
     "text": [
      "range(-2, 3)\n"
     ]
    }
   ],
   "source": [
    "print(all_frames)"
   ]
  },
  {
   "cell_type": "code",
   "execution_count": 21,
   "metadata": {},
   "outputs": [
    {
     "name": "stdout",
     "output_type": "stream",
     "text": [
      "-2\n",
      "-1\n",
      "0\n",
      "1\n",
      "2\n"
     ]
    }
   ],
   "source": [
    "for num in all_frames:\n",
    "    print(num)"
   ]
  },
  {
   "cell_type": "code",
   "execution_count": 5,
   "metadata": {},
   "outputs": [],
   "source": [
    "from dataloader import KittiDataset\n",
    "import pandas as pd"
   ]
  },
  {
   "cell_type": "code",
   "execution_count": 30,
   "metadata": {},
   "outputs": [
    {
     "name": "stdout",
     "output_type": "stream",
     "text": [
      "{'stereo_left_image': array([[[255, 255, 255],\n",
      "        [255, 255, 255],\n",
      "        [255, 255, 255],\n",
      "        ...,\n",
      "        [ 11,  12,  14],\n",
      "        [ 11,  12,  14],\n",
      "        [ 11,  12,  14]],\n",
      "\n",
      "       [[255, 255, 255],\n",
      "        [255, 255, 255],\n",
      "        [255, 255, 255],\n",
      "        ...,\n",
      "        [ 12,  12,  14],\n",
      "        [ 12,  12,  14],\n",
      "        [ 11,  12,  14]],\n",
      "\n",
      "       [[255, 255, 255],\n",
      "        [255, 255, 255],\n",
      "        [255, 255, 255],\n",
      "        ...,\n",
      "        [ 12,  15,  15],\n",
      "        [ 12,  14,  15],\n",
      "        [ 11,  12,  15]],\n",
      "\n",
      "       ...,\n",
      "\n",
      "       [[ 10,  11,  11],\n",
      "        [ 10,  10,  12],\n",
      "        [ 10,  10,  13],\n",
      "        ...,\n",
      "        [ 10,  11,  14],\n",
      "        [  9,  11,  14],\n",
      "        [  8,   9,  13]],\n",
      "\n",
      "       [[ 10,  11,  13],\n",
      "        [ 10,  10,  12],\n",
      "        [ 10,   9,  12],\n",
      "        ...,\n",
      "        [ 10,  11,  12],\n",
      "        [  9,  11,  12],\n",
      "        [  8,  10,  12]],\n",
      "\n",
      "       [[ 11,  11,  13],\n",
      "        [ 11,  11,  12],\n",
      "        [ 10,  10,  12],\n",
      "        ...,\n",
      "        [  8,   9,  13],\n",
      "        [  8,   9,  12],\n",
      "        [  8,   8,  12]]], dtype=uint8), 'stereo_left_shape': (375, 1242, 3), 'stereo_left_capture_time_nsec': 1317046450911916288, 'stereo_right_image': array([[[255, 255, 255],\n",
      "        [255, 255, 255],\n",
      "        [255, 255, 255],\n",
      "        ...,\n",
      "        [ 13,  15,  16],\n",
      "        [ 13,  14,  16],\n",
      "        [ 13,  13,  16]],\n",
      "\n",
      "       [[255, 255, 255],\n",
      "        [255, 255, 255],\n",
      "        [255, 255, 255],\n",
      "        ...,\n",
      "        [ 13,  15,  16],\n",
      "        [ 13,  15,  16],\n",
      "        [ 14,  14,  16]],\n",
      "\n",
      "       [[255, 255, 255],\n",
      "        [255, 255, 255],\n",
      "        [255, 255, 255],\n",
      "        ...,\n",
      "        [ 14,  14,  16],\n",
      "        [ 14,  14,  16],\n",
      "        [ 14,  15,  16]],\n",
      "\n",
      "       ...,\n",
      "\n",
      "       [[ 11,  12,  12],\n",
      "        [ 12,  12,  13],\n",
      "        [ 13,  11,  13],\n",
      "        ...,\n",
      "        [ 12,  15,  17],\n",
      "        [ 12,  15,  18],\n",
      "        [ 12,  15,  19]],\n",
      "\n",
      "       [[ 14,  12,  13],\n",
      "        [ 14,  12,  13],\n",
      "        [ 14,  11,  14],\n",
      "        ...,\n",
      "        [ 14,  16,  15],\n",
      "        [ 13,  15,  18],\n",
      "        [ 13,  16,  20]],\n",
      "\n",
      "       [[ 14,  12,  15],\n",
      "        [ 14,  12,  15],\n",
      "        [ 14,  12,  15],\n",
      "        ...,\n",
      "        [ 14,  17,  20],\n",
      "        [ 14,  17,  19],\n",
      "        [ 14,  17,  19]]], dtype=uint8), 'stereo_right_shape': (375, 1242, 3), 'stereo_right_capture_time_nsec': 1317046450911310080, 'lidar_point_coord_velodyne': array([[52.301,  7.3  ,  1.995],\n",
      "       [50.572,  7.22 ,  1.937],\n",
      "       [48.788,  7.277,  1.877],\n",
      "       ...,\n",
      "       [ 3.717, -1.399, -1.736],\n",
      "       [ 3.592, -1.338, -1.671],\n",
      "       [ 3.756, -1.387, -1.751]], dtype=float32), 'lidar_point_reflectivity': array([0.12, 0.  , 0.  , ..., 0.41, 0.  , 0.  ], dtype=float32), 'lidar_start_capture_time_nsec': 1317046450849697847, 'lidar_end_capture_time_nsec': 1317046450953111764, 'nearby_frames': {-2: {}, -1: {}, 1: {'stereo_left_image': array([[[ 44, 181, 207],\n",
      "        [ 80, 173, 255],\n",
      "        [137, 189, 255],\n",
      "        ...,\n",
      "        [ 12,  11,  13],\n",
      "        [ 12,  11,  14],\n",
      "        [ 12,  11,  14]],\n",
      "\n",
      "       [[ 31,  79,  75],\n",
      "        [ 39,  70,  65],\n",
      "        [ 87,  67,  82],\n",
      "        ...,\n",
      "        [ 11,  12,  13],\n",
      "        [ 11,  12,  14],\n",
      "        [ 11,  11,  14]],\n",
      "\n",
      "       [[ 25,  63,  74],\n",
      "        [ 28,  38,  39],\n",
      "        [ 39,  30,  22],\n",
      "        ...,\n",
      "        [ 11,  12,  14],\n",
      "        [ 11,  12,  14],\n",
      "        [ 11,  11,  14]],\n",
      "\n",
      "       ...,\n",
      "\n",
      "       [[ 24,  14,  12],\n",
      "        [ 24,  14,  13],\n",
      "        [ 23,  14,  13],\n",
      "        ...,\n",
      "        [  9,  10,  15],\n",
      "        [ 10,  11,  15],\n",
      "        [ 11,  11,  15]],\n",
      "\n",
      "       [[ 24,  14,  13],\n",
      "        [ 24,  14,  14],\n",
      "        [ 23,  14,  14],\n",
      "        ...,\n",
      "        [  9,  10,  12],\n",
      "        [  9,  11,  12],\n",
      "        [ 10,  11,  13]],\n",
      "\n",
      "       [[ 23,  14,  13],\n",
      "        [ 23,  15,  14],\n",
      "        [ 22,  15,  14],\n",
      "        ...,\n",
      "        [ 10,  10,  12],\n",
      "        [ 10,  10,  12],\n",
      "        [ 10,  10,  12]]], dtype=uint8), 'stereo_left_shape': (375, 1242, 3), 'stereo_left_capture_time_nsec': 1317046451015300096, 'stereo_right_image': array([[[255, 255, 255],\n",
      "        [255, 255, 255],\n",
      "        [255, 255, 255],\n",
      "        ...,\n",
      "        [ 11,  11,  12],\n",
      "        [ 12,  12,  12],\n",
      "        [ 12,  13,  13]],\n",
      "\n",
      "       [[255, 255, 255],\n",
      "        [255, 255, 255],\n",
      "        [255, 255, 255],\n",
      "        ...,\n",
      "        [ 11,  11,  11],\n",
      "        [ 12,  12,  11],\n",
      "        [ 12,  13,  14]],\n",
      "\n",
      "       [[255, 255, 255],\n",
      "        [255, 255, 255],\n",
      "        [255, 255, 255],\n",
      "        ...,\n",
      "        [ 10,  10,  10],\n",
      "        [ 11,  12,  12],\n",
      "        [ 11,  13,  13]],\n",
      "\n",
      "       ...,\n",
      "\n",
      "       [[ 28,  27,  26],\n",
      "        [ 26,  24,  22],\n",
      "        [ 17,  20,  23],\n",
      "        ...,\n",
      "        [  7,   8,  10],\n",
      "        [  7,   8,  10],\n",
      "        [  7,   8,  10]],\n",
      "\n",
      "       [[ 26,  26,  25],\n",
      "        [ 23,  23,  22],\n",
      "        [ 15,  19,  22],\n",
      "        ...,\n",
      "        [  9,   8,  10],\n",
      "        [  8,   8,  10],\n",
      "        [  8,   9,  10]],\n",
      "\n",
      "       [[ 25,  25,  22],\n",
      "        [ 21,  21,  19],\n",
      "        [ 14,  17,  20],\n",
      "        ...,\n",
      "        [  9,   8,  10],\n",
      "        [ 10,   9,  10],\n",
      "        [  9,   9,  10]]], dtype=uint8), 'stereo_right_shape': (375, 1242, 3), 'stereo_right_capture_time_nsec': 1317046451014816000}, 2: {'stereo_left_image': array([[[24, 24, 21],\n",
      "        [24, 23, 18],\n",
      "        [25, 21, 17],\n",
      "        ...,\n",
      "        [ 9,  8,  7],\n",
      "        [ 9,  8,  8],\n",
      "        [10,  8,  8]],\n",
      "\n",
      "       [[22, 32, 57],\n",
      "        [21, 30, 39],\n",
      "        [19, 25, 35],\n",
      "        ...,\n",
      "        [ 8,  7,  7],\n",
      "        [ 8,  8,  8],\n",
      "        [10,  9,  8]],\n",
      "\n",
      "       [[62, 54, 60],\n",
      "        [60, 49, 42],\n",
      "        [50, 43, 35],\n",
      "        ...,\n",
      "        [ 8,  7,  8],\n",
      "        [ 9,  9,  8],\n",
      "        [11, 10,  8]],\n",
      "\n",
      "       ...,\n",
      "\n",
      "       [[33, 35, 36],\n",
      "        [32, 35, 33],\n",
      "        [32, 34, 31],\n",
      "        ...,\n",
      "        [11, 18, 22],\n",
      "        [12, 17, 22],\n",
      "        [13, 17, 22]],\n",
      "\n",
      "       [[32, 32, 33],\n",
      "        [32, 33, 32],\n",
      "        [32, 33, 32],\n",
      "        ...,\n",
      "        [11, 17, 24],\n",
      "        [12, 17, 24],\n",
      "        [13, 17, 24]],\n",
      "\n",
      "       [[31, 32, 32],\n",
      "        [31, 31, 32],\n",
      "        [30, 30, 31],\n",
      "        ...,\n",
      "        [13, 17, 24],\n",
      "        [13, 17, 24],\n",
      "        [12, 17, 25]]], dtype=uint8), 'stereo_left_shape': (375, 1242, 3), 'stereo_left_capture_time_nsec': 1317046451118678016, 'stereo_right_image': array([[[255, 255, 255],\n",
      "        [255, 255, 255],\n",
      "        [255, 255, 255],\n",
      "        ...,\n",
      "        [ 10,  11,  13],\n",
      "        [ 11,  12,  13],\n",
      "        [ 11,  12,  12]],\n",
      "\n",
      "       [[255, 255, 255],\n",
      "        [255, 255, 255],\n",
      "        [255, 255, 255],\n",
      "        ...,\n",
      "        [ 11,  11,  13],\n",
      "        [ 11,  11,  13],\n",
      "        [ 11,  10,  13]],\n",
      "\n",
      "       [[255, 255, 255],\n",
      "        [255, 255, 255],\n",
      "        [255, 255, 255],\n",
      "        ...,\n",
      "        [ 13,  11,  13],\n",
      "        [ 12,  11,  13],\n",
      "        [ 12,  10,  14]],\n",
      "\n",
      "       ...,\n",
      "\n",
      "       [[ 37,  34,  36],\n",
      "        [ 37,  35,  37],\n",
      "        [ 37,  36,  36],\n",
      "        ...,\n",
      "        [  4,   5,   7],\n",
      "        [  4,   4,   7],\n",
      "        [  3,   4,   7]],\n",
      "\n",
      "       [[ 46,  39,  37],\n",
      "        [ 46,  41,  35],\n",
      "        [ 50,  39,  35],\n",
      "        ...,\n",
      "        [  6,   6,   5],\n",
      "        [  5,   6,   4],\n",
      "        [  6,   5,   4]],\n",
      "\n",
      "       [[ 42,  40,  39],\n",
      "        [ 41,  38,  34],\n",
      "        [ 41,  33,  35],\n",
      "        ...,\n",
      "        [  5,  12,  18],\n",
      "        [  4,  12,  17],\n",
      "        [  6,  12,  15]]], dtype=uint8), 'stereo_right_shape': (375, 1242, 3), 'stereo_right_capture_time_nsec': 1317046451118196992}}}\n"
     ]
    }
   ],
   "source": [
    "data = dataset[0]\n",
    "print(data)"
   ]
  },
  {
   "cell_type": "code",
   "execution_count": 32,
   "metadata": {},
   "outputs": [
    {
     "name": "stdout",
     "output_type": "stream",
     "text": [
      "dict_keys(['stereo_left_image', 'stereo_left_shape', 'stereo_left_capture_time_nsec', 'stereo_right_image', 'stereo_right_shape', 'stereo_right_capture_time_nsec'])\n"
     ]
    }
   ],
   "source": [
    "print(data['nearby_frames'][1].keys())"
   ]
  },
  {
   "cell_type": "code",
   "execution_count": null,
   "metadata": {},
   "outputs": [],
   "source": []
  }
 ],
 "metadata": {
  "kernelspec": {
   "display_name": "Python (ddsr)",
   "language": "python",
   "name": "ddsr"
  },
  "language_info": {
   "codemirror_mode": {
    "name": "ipython",
    "version": 3
   },
   "file_extension": ".py",
   "mimetype": "text/x-python",
   "name": "python",
   "nbconvert_exporter": "python",
   "pygments_lexer": "ipython3",
   "version": "3.8.3"
  }
 },
 "nbformat": 4,
 "nbformat_minor": 4
}
