{
 "cells": [
  {
   "cell_type": "markdown",
   "metadata": {},
   "source": [
    "## KITTI Dataset Tutorial"
   ]
  },
  {
   "cell_type": "code",
   "execution_count": null,
   "metadata": {},
   "outputs": [],
   "source": [
    "%load_ext autoreload\n",
    "%autoreload 2\n",
    "%matplotlib inline\n",
    "\n",
    "from IPython.core.display import display, HTML\n",
    "display(HTML(\"<style>.container { width:90% !important; }</style>\"))"
   ]
  },
  {
   "cell_type": "code",
   "execution_count": null,
   "metadata": {},
   "outputs": [],
   "source": [
    "from matplotlib import gridspec\n",
    "from matplotlib import pyplot as plt\n",
    "import PIL.Image as pil"
   ]
  },
  {
   "cell_type": "markdown",
   "metadata": {},
   "source": [
    "### Load and visualize stereo images\n",
    "Note: These are stereo pair images from the same timestamp."
   ]
  },
  {
   "cell_type": "code",
   "execution_count": null,
   "metadata": {},
   "outputs": [],
   "source": [
    "stereo_left_image_path = \"data/kitti_example/2011_09_26/2011_09_26_drive_0048_sync/image_02/data/0000000000.png\"\n",
    "stereo_right_image_path = \"data/kitti_example/2011_09_26/2011_09_26_drive_0048_sync/image_03/data/0000000000.png\"\n",
    "\n",
    "stereo_left_image = pil.open(stereo_left_image_path).convert('RGB')\n",
    "stereo_right_image = pil.open(stereo_right_image_path).convert('RGB')"
   ]
  },
  {
   "cell_type": "code",
   "execution_count": null,
   "metadata": {},
   "outputs": [],
   "source": [
    "plt.figure(figsize=(20, 20))\n",
    "plt.imshow(stereo_left_image)\n",
    "plt.show()"
   ]
  },
  {
   "cell_type": "code",
   "execution_count": null,
   "metadata": {},
   "outputs": [],
   "source": [
    "plt.figure(figsize=(20, 20))\n",
    "plt.imshow(stereo_right_image)\n",
    "plt.show()"
   ]
  },
  {
   "cell_type": "code",
   "execution_count": null,
   "metadata": {},
   "outputs": [],
   "source": [
    "fig = plt.figure(figsize=(20, 10)) \n",
    "grid = gridspec.GridSpec(2, 1, height_ratios=[1, 1], wspace=0.0, hspace=0.0, figure=fig)\n",
    "\n",
    "# Plot camera image.\n",
    "ax = plt.subplot(grid[0])\n",
    "ax.imshow(stereo_left_image)\n",
    "ax.set_xticklabels([])\n",
    "ax.set_yticklabels([])\n",
    "\n",
    "# Plot segmentation image.\n",
    "ax = plt.subplot(grid[1])\n",
    "ax.imshow(stereo_right_image)\n",
    "ax.set_xticklabels([])\n",
    "ax.set_yticklabels([])\n",
    "\n",
    "plt.show()"
   ]
  },
  {
   "cell_type": "markdown",
   "metadata": {},
   "source": [
    "### Load and Visualize Lidar Data.\n",
    "Note: Lidar is formatted as [N, 4] where N is the number of lidar points and 4 corresponds to x, y, z, lidar_intensity."
   ]
  },
  {
   "cell_type": "code",
   "execution_count": null,
   "metadata": {},
   "outputs": [],
   "source": [
    "import kitti_utils\n",
    "\n",
    "lidar_data_path = 'data/kitti_example/2011_09_26/2011_09_26_drive_0048_sync/velodyne_points/data/0000000000.bin'\n",
    "lidar_data = kitti_utils.load_lidar_points(lidar_data_path)"
   ]
  },
  {
   "cell_type": "code",
   "execution_count": null,
   "metadata": {
    "scrolled": false
   },
   "outputs": [],
   "source": [
    "import plotly.graph_objects as go\n",
    "import plotly_utils\n",
    "\n",
    "fig = go.Figure()\n",
    "data = go.Scatter3d(x=lidar_data[:, 0], \n",
    "                    y=lidar_data[:, 1], \n",
    "                    z=lidar_data[:, 2], \n",
    "                    mode='markers',\n",
    "                    marker=dict(size=1, color=lidar_data[:, 3], colorscale='Viridis'),\n",
    "                    name='lidar')\n",
    "fig.add_traces(data)\n",
    "\n",
    "plotly_utils.setup_layout(fig)\n",
    "fig.show()"
   ]
  },
  {
   "cell_type": "markdown",
   "metadata": {},
   "source": [
    "### Loading IMU Data"
   ]
  },
  {
   "cell_type": "code",
   "execution_count": null,
   "metadata": {},
   "outputs": [],
   "source": [
    "scene_path = 'data/kitti_example/2011_09_26/2011_09_26_drive_0048_sync/'\n",
    "\n",
    "imu_data = kitti_utils.get_imu_data(scene_path, 0)\n",
    "imu_data"
   ]
  },
  {
   "cell_type": "code",
   "execution_count": null,
   "metadata": {},
   "outputs": [],
   "source": [
    "imu_df = kitti_utils.get_imu_dataframe(scene_path)\n",
    "imu_df"
   ]
  },
  {
   "cell_type": "code",
   "execution_count": null,
   "metadata": {},
   "outputs": [],
   "source": []
  }
 ],
 "metadata": {
  "kernelspec": {
   "display_name": "Python (ddsr)",
   "language": "python",
   "name": "ddsr"
  },
  "language_info": {
   "codemirror_mode": {
    "name": "ipython",
    "version": 3
   },
   "file_extension": ".py",
   "mimetype": "text/x-python",
   "name": "python",
   "nbconvert_exporter": "python",
   "pygments_lexer": "ipython3",
   "version": "3.8.3"
  }
 },
 "nbformat": 4,
 "nbformat_minor": 4
}
