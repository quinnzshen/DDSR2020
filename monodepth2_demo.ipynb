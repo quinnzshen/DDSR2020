{
 "cells": [
  {
   "cell_type": "code",
   "execution_count": null,
   "metadata": {},
   "outputs": [],
   "source": [
    "from PIL import Image\n",
    "from use_existingmodels import test_depth_model, test_pose_model\n",
    "from matplotlib import pyplot as plt\n",
    "from kitti_utils import (\n",
    "    compute_image_from_velodyne_matrices, load_lidar_points,\n",
    "    get_camera_intrinsic_dict\n",
    ")\n",
    "from overlay_lidar_utils import (\n",
    "     generate_lidar_point_coord_camera_image, plot_lidar_on_image, plot_point_hue_on_image\n",
    ")\n",
    "from compute_photometric_error_utils import (\n",
    "    color_target_points_with_source, project_points_on_image, filter_to_plane, filter_to_fov,\n",
    "    reproject_source_to_target, plot_sparse_img_and_surrounding_lidar,\n",
    "    calc_photo_error_velo\n",
    ")\n",
    "import os\n",
    "import numpy as np"
   ]
  },
  {
   "cell_type": "code",
   "execution_count": null,
   "metadata": {},
   "outputs": [],
   "source": [
    "test_depth_model('data/kitti_example/2011_09_26/2011_09_26_drive_0048_sync/image_02/data/0000000000.png', 'mono_640x192', output_path='data', display_result = True, no_filesave = True)"
   ]
  },
  {
   "cell_type": "code",
   "execution_count": null,
   "metadata": {},
   "outputs": [],
   "source": [
    "# Path names\n",
    "calib_path = \"data/kitti_example/2011_09_26\"\n",
    "scene_path = os.path.join(calib_path, \"2011_09_26_drive_0048_sync\")\n",
    "\n",
    "RGB_MAX_DIST = np.sqrt(3) * 255\n",
    "\n",
    "# Set target and source for display\n",
    "target = 11\n",
    "source = 21\n",
    "\n",
    "# Get transformation matrices\n",
    "velo2cam = compute_image_from_velodyne_matrices(calib_path)[\"stereo_left\"]\n",
    "rel_pose = test_pose_model(os.path.join(scene_path, f\"image_02/data/{target:010}.png\"),os.path.join(scene_path, f\"image_03/data/{source:010}.png\"),  'mono_640x192')\n",
    "\n",
    "# Set velodyne points\n",
    "target_velodyne = load_lidar_points(os.path.join(scene_path, f\"velodyne_points/data/{target:010}.bin\"))\n",
    "orig_colors = np.copy(target_velodyne[:, 3])\n",
    "target_velodyne[:, 3] = 1\n",
    "\n",
    "# Read in image files\n",
    "img_tgt = np.array(Image.open(os.path.join(scene_path, f\"image_02/data/{target:010}.png\")))\n",
    "img_src = np.array(Image.open(os.path.join(scene_path, f\"image_02/data/{source:010}.png\")))"
   ]
  },
  {
   "cell_type": "code",
   "execution_count": null,
   "metadata": {},
   "outputs": [],
   "source": [
    "# Transform velodyne points into target and source camera planes\n",
    "transform_to_src = target_velodyne @ rel_pose.T\n",
    "src_coord = filter_to_fov(filter_to_plane(project_points_on_image(transform_to_src, velo2cam)), img_src.shape)\n",
    "tgt_coord = filter_to_fov(filter_to_plane(project_points_on_image(target_velodyne, velo2cam)), img_tgt.shape)\n",
    "\n",
    "# Plot lidar points on each image\n",
    "fig = plt.figure(figsize=(32, 9))\n",
    "plot_lidar_on_image(img_src, src_coord, fig, 1)\n",
    "plot_lidar_on_image(img_tgt, tgt_coord, fig, 2)\n",
    "\n",
    "# Project source lidar points (with color from source image) into target frame\n",
    "color_points, point_tgt_frame = color_target_points_with_source(target_velodyne, img_src, velo2cam, rel_pose)\n",
    "plot_sparse_img_and_surrounding_lidar(point_tgt_frame, color_points[:, :4], color_points[:, 4:] / 255)\n",
    "\n",
    "# Calculate photometric error for each velodyne point and plot on target image (blue is more error)\n",
    "fig = plt.figure(figsize=(32, 9))\n",
    "errors = calc_photo_error_velo(img_tgt, color_points) / RGB_MAX_DIST\n",
    "plot_point_hue_on_image(img_tgt, color_points, errors, fig, 1)"
   ]
  }
 ],
 "metadata": {
  "kernelspec": {
   "display_name": "Python 3",
   "language": "python",
   "name": "python3"
  },
  "language_info": {
   "codemirror_mode": {
    "name": "ipython",
    "version": 3
   },
   "file_extension": ".py",
   "mimetype": "text/x-python",
   "name": "python",
   "nbconvert_exporter": "python",
   "pygments_lexer": "ipython3",
   "version": "3.8.3"
  }
 },
 "nbformat": 4,
 "nbformat_minor": 4
}
