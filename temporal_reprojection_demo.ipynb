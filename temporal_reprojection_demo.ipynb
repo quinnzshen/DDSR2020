{
 "cells": [
  {
   "cell_type": "markdown",
   "metadata": {},
   "source": [
    "# Temporal Reprojection"
   ]
  },
  {
   "cell_type": "markdown",
   "metadata": {},
   "source": [
    "### Import and path setup"
   ]
  },
  {
   "cell_type": "code",
   "execution_count": null,
   "metadata": {},
   "outputs": [],
   "source": [
    "import numpy as np\n",
    "from PIL import Image\n",
    "from matplotlib import pyplot as plt\n",
    "\n",
    "import os\n",
    "\n",
    "from kitti_utils import (\n",
    "    compute_image_from_velodyne_matrices, load_lidar_points, \n",
    "    get_camera_intrinsic_dict, get_relative_pose\n",
    ")\n",
    "from overlay_lidar_utils import (\n",
    "     generate_lidar_point_coord_camera_image, plot_lidar_on_image\n",
    ")\n",
    "from compute_photometric_error_utils import (\n",
    "    plot_source_in_target, project_points_on_image, filter_to_plane, filter_to_fov,\n",
    "    reproject_source_to_target, plot_sparse_img_and_surrounding_lidar\n",
    ") \n",
    "\n",
    "# Path names\n",
    "calib_path = \"data/kitti_example/2011_09_26\"\n",
    "scene_path = os.path.join(calib_path, \"2011_09_26_drive_0048_sync\")"
   ]
  },
  {
   "cell_type": "markdown",
   "metadata": {},
   "source": [
    "### Set target and source frames here:"
   ]
  },
  {
   "cell_type": "code",
   "execution_count": null,
   "metadata": {},
   "outputs": [],
   "source": [
    "# Set target and source for display\n",
    "target = 11\n",
    "source = 21"
   ]
  },
  {
   "cell_type": "markdown",
   "metadata": {},
   "source": [
    "### Calculating transformation matrices and reading data from files"
   ]
  },
  {
   "cell_type": "code",
   "execution_count": null,
   "metadata": {},
   "outputs": [],
   "source": [
    "# Get transformation matrices\n",
    "velo2cam = compute_image_from_velodyne_matrices(calib_path)[\"stereo_left\"]\n",
    "rel_pose = get_relative_pose(scene_path, target, source)\n",
    "\n",
    "# Set velodyne points\n",
    "target_velodyne = load_lidar_points(os.path.join(scene_path, f\"velodyne_points/data/{target:010}.bin\"))\n",
    "orig_colors = np.copy(target_velodyne[:, 3])\n",
    "target_velodyne[:, 3] = 1\n",
    "\n",
    "# Read in image files\n",
    "img_tgt = np.array(Image.open(os.path.join(scene_path, f\"image_02/data/{target:010}.png\")))\n",
    "img_src = np.array(Image.open(os.path.join(scene_path, f\"image_02/data/{source:010}.png\")))"
   ]
  },
  {
   "cell_type": "markdown",
   "metadata": {},
   "source": [
    "### Doing transformations and plotting"
   ]
  },
  {
   "cell_type": "code",
   "execution_count": null,
   "metadata": {
    "scrolled": false
   },
   "outputs": [],
   "source": [
    "# Transform velodyne points into target and source camera planes\n",
    "transform_to_src = target_velodyne @ rel_pose.T\n",
    "src_coord = filter_to_fov(filter_to_plane(project_points_on_image(transform_to_src, velo2cam)), img_src.shape)\n",
    "tgt_coord = filter_to_fov(filter_to_plane(project_points_on_image(target_velodyne, velo2cam)), img_tgt.shape)\n",
    "\n",
    "# Plot lidar points on each image\n",
    "fig = plt.figure(figsize=(32, 9))\n",
    "plot_lidar_on_image(img_src, src_coord, fig, 1)\n",
    "plot_lidar_on_image(img_tgt, tgt_coord, fig, 2)\n",
    "\n",
    "# Project source lidar points (with color from source image) into target frame\n",
    "plot_source_in_target(target_velodyne, img_src, velo2cam, rel_pose)    "
   ]
  },
  {
   "cell_type": "markdown",
   "metadata": {},
   "source": [
    "## With stereo reprojection functions"
   ]
  },
  {
   "cell_type": "code",
   "execution_count": null,
   "metadata": {},
   "outputs": [],
   "source": [
    "lidar_point_coord_in_pixels_and_filt_idx = generate_lidar_point_coord_camera_image(target_velodyne, velo2cam, 1242,\n",
    "                                                                                   375)\n",
    "lidar_point_coord_camera_image_tgt = lidar_point_coord_in_pixels_and_filt_idx[0][\n",
    "                                     lidar_point_coord_in_pixels_and_filt_idx[1], :]\n",
    "# Get intrinsic matrix.\n",
    "tgt_intrinsic = get_camera_intrinsic_dict(calib_path)[\"stereo_left\"]\n",
    "\n",
    "projection_coords = reproject_source_to_target(tgt_intrinsic, tgt_intrinsic,\n",
    "                                               lidar_point_coord_camera_image_tgt, rel_pose)\n",
    "lidar_point_coord_camera_image_tgt = projection_coords[0]\n",
    "lidar_point_coord_camera_image_src = projection_coords[1]\n",
    "\n",
    "# Get lidar points in front of velodyne sensor.\n",
    "front_lidar_points_image_plane = lidar_point_coord_in_pixels_and_filt_idx[0]\n",
    "\n",
    "# Load image file.\n",
    "img_tgt_frac = img_tgt / 255\n",
    "\n",
    "# Create array of colors for each pixel.\n",
    "colors_tgt = np.zeros(lidar_point_coord_camera_image_tgt.shape)\n",
    "for idx in range(len(colors_tgt)):\n",
    "    x = lidar_point_coord_camera_image_tgt[idx][0]\n",
    "    y = lidar_point_coord_camera_image_tgt[idx][1]\n",
    "    colors_tgt[idx] = img_tgt_frac[y][x]\n",
    "\n",
    "# Load source image file.\n",
    "img_src_frac = img_src / 255\n",
    "# Create array of colors for each pixel.\n",
    "colors_src = np.zeros(lidar_point_coord_camera_image_tgt.shape)\n",
    "for idx in range(len(colors_src)):\n",
    "    x = lidar_point_coord_camera_image_src[idx][0]\n",
    "    y = lidar_point_coord_camera_image_src[idx][1]\n",
    "    if 0 <= x < 1242 and 0 <= y < 375:\n",
    "        colors_src[idx] = img_src_frac[y][x]\n",
    "    else:\n",
    "        colors_src[idx] = np.array([[.75, .75, .75]])\n",
    "\n",
    "# Sparsely plot target image and surrounding lidar.\n",
    "plot_sparse_img_and_surrounding_lidar(front_lidar_points_image_plane,\n",
    "                                           lidar_point_coord_camera_image_tgt[:, :2], colors_tgt)\n",
    "# Sparsely plot source image projected into target image plane and surrounding lidar.\n",
    "plot_sparse_img_and_surrounding_lidar(front_lidar_points_image_plane,\n",
    "                                           lidar_point_coord_camera_image_tgt[:, :2], colors_src)"
   ]
  }
 ],
 "metadata": {
  "kernelspec": {
   "display_name": "Python (ddsr)",
   "language": "python",
   "name": "ddsr"
  },
  "language_info": {
   "codemirror_mode": {
    "name": "ipython",
    "version": 3
   },
   "file_extension": ".py",
   "mimetype": "text/x-python",
   "name": "python",
   "nbconvert_exporter": "python",
   "pygments_lexer": "ipython3",
   "version": "3.8.3"
  }
 },
 "nbformat": 4,
 "nbformat_minor": 4
}
