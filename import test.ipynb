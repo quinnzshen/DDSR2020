{
 "cells": [
  {
   "cell_type": "code",
   "execution_count": 34,
   "metadata": {},
   "outputs": [],
   "source": [
    "import torch\n",
    "import torchvision\n",
    "import numpy as np"
   ]
  },
  {
   "cell_type": "code",
   "execution_count": 28,
   "metadata": {},
   "outputs": [
    {
     "name": "stdout",
     "output_type": "stream",
     "text": [
      "hi test\n"
     ]
    }
   ],
   "source": [
    "print(\"hi test\")"
   ]
  },
  {
   "cell_type": "markdown",
   "metadata": {},
   "source": [
    "These work for me"
   ]
  }
 ],
 "metadata": {
  "kernelspec": {
   "display_name": "Python (ddsr)",
   "language": "python",
   "name": "ddsr2020"
  }
 },
 "nbformat": 4,
 "nbformat_minor": 4
}
